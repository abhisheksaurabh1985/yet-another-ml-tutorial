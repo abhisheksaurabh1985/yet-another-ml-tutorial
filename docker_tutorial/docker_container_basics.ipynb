{
 "cells": [
  {
   "cell_type": "markdown",
   "metadata": {},
   "source": [
    "# Docker\n",
    "Source: https://www.youtube.com/watch?v=G1qA-Du8Nus&list=PLea0WJq13cnDsF4MrbNaw3b4jI0GT9yKt&index=8"
   ]
  },
  {
   "cell_type": "markdown",
   "metadata": {},
   "source": [
    "### Definition\n",
    "- An open platform to build, ship and run distributed application. Meaning we can run application on different machines or on different hosts and make them communicate effectively and efficiently.\n",
    "- Based on the concept 'build once run everywhere'.\n",
    "- As on date, runs only on linux servers. "
   ]
  },
  {
   "cell_type": "markdown",
   "metadata": {},
   "source": [
    "### Containers as light weight VMs\n",
    "VMs have their own Guest OS. Whereas containers share the OS of the host machine. The VMs run using a hypervisor on top of the OS of the host machine. The OS of the VM is independent of the host OS. It doesn't do proper resource usage. \n",
    "\n",
    "Containers are isolated but share OS kernel and where appropriate binary files and libraries as well. Result is faster deployment, much less overhead, easier migration and faster restart. "
   ]
  },
  {
   "cell_type": "markdown",
   "metadata": {},
   "source": [
    "### Installation on Ubuntu 16.04\n",
    "- `sudo apt-get install docker.io`\n",
    "- `docker version` to confirm the installation\n",
    "- Security issue: `docker` group is equivalent to the `root` user. This means that we need to restrict the access else it might pose a security risk. \n",
    "    > - Create the `docker` group: `sudo groupadd docker`\n",
    "    > - Add your user to the `docker` group: `sudo gpasswd -a $USER docker`. `$USER` means the current user.\n",
    "    \n",
    "- Restart the daemon: `sudo service docker restart`\n",
    "- Confirm once again if docker is restarted: `docker version`."
   ]
  },
  {
   "cell_type": "markdown",
   "metadata": {},
   "source": [
    "### First docker container"
   ]
  },
  {
   "cell_type": "markdown",
   "metadata": {},
   "source": [
    "To run a container, we'd like to know the base docker image. The docker image that the docker container we want to run, is based on. \n",
    "- `docker run <container_name>`: Docker tries to find the container locally. If it can't find, it tries to pull it from the default docker repositories of docker images called `docker hub` and then runs the container of the image. \n",
    "- To look for container names, we can look up in the docker hub.\n",
    "- `docker run -it ubuntu bash`: `-it` runs the container interactively. Note that with this command we'll be inside the container prompt. Notice the change in the prompt. \n",
    ">- Check the number of packages inside ubuntu container: `dpkg -l | wc -l`. Compare the same on the host OS. Notice that the number of packages in the host is high by a factor of almost 15.\n",
    "- If we install software in a container and then exit it, we will not find the installed packages in the container. The reason is that we get a fresh container when we restart it.\n",
    "- If we want to save the changes in a container, we will have to save the changes as a new image. \n",
    "- `docker ps`: List running containers\n",
    "- `docker` gives containers a unique ID \n",
    "- `docker images`: Gets a list of images"
   ]
  },
  {
   "cell_type": "markdown",
   "metadata": {},
   "source": [
    "### Running containers in the background"
   ]
  },
  {
   "cell_type": "markdown",
   "metadata": {},
   "source": [
    "- `docker run <user_id_on_docker_hub/image_name>`: For example, `docker run jpetazzo/clock` prints the time evert second. In this case, teh container runs in the usual mode.\n",
    "- `docker run -d jpetazzo/clock`  # Runs the continer in the daemon mode.\n",
    "- `docker logs <container_id>`\n",
    "- `docker ps -a`: To get a history of container\n",
    "- `docker ps -a -q`: To get a history of container, only the container ID. "
   ]
  },
  {
   "cell_type": "markdown",
   "metadata": {},
   "source": [
    "### Stopping and killing containers"
   ]
  },
  {
   "cell_type": "markdown",
   "metadata": {},
   "source": [
    "- `docker kill _container_id` or `docker stop` : `kill` is much quicker than `stop`. The latter first sends a terminate signal and then waits for the container to stop. If the container doesn't stop, then it sends the kill signal. "
   ]
  },
  {
   "cell_type": "markdown",
   "metadata": {},
   "source": [
    "### Docker image vs container"
   ]
  },
  {
   "cell_type": "markdown",
   "metadata": {},
   "source": [
    "#### What's an image: \n",
    ">- Image is a collection of files + metadata. Technically, these files form the root filesystem of a container.\n",
    ">- Images are made of layers, conceptually stacked on top of each other. \n",
    ">- Each layer can add, change or remove files. \n",
    ">- Images can share layers to optimize disk usage, transfer times and memory use. "
   ]
  },
  {
   "cell_type": "markdown",
   "metadata": {},
   "source": [
    "#### Difference:\n",
    ">- Image is a read only filesystem\n",
    ">- A container is an encapsulated set of processes running in a read-write copy of that filesystem\n",
    ">- To optimize container boot time, copy-on-write is used instead of regular copy.\n",
    ">- `docker run` starts a container from a given image\n",
    ">- Metaphors:\n",
    ">>- Images are like templates or stencils that you can create containers from\n",
    ">>- In OOPs paradigm, _Images_ are conceptually similar to classes. _layers_ are analogous to inheritance and _containers_ are conceptually similar to objects/ instances. "
   ]
  },
  {
   "cell_type": "markdown",
   "metadata": {},
   "source": [
    "#### If an image is read only, how do we change it?\n",
    "- We don't change an image\n",
    "- We create a new container from an image\n",
    "- Then we make changes to that container\n",
    "- When we are satisfied with those changes, we transform them into a new layer\n",
    "- A new image is created by stacking the new layer on top of an old image"
   ]
  },
  {
   "cell_type": "code",
   "execution_count": null,
   "metadata": {},
   "outputs": [],
   "source": []
  }
 ],
 "metadata": {
  "kernelspec": {
   "display_name": "Python 2",
   "language": "python",
   "name": "python2"
  },
  "language_info": {
   "codemirror_mode": {
    "name": "ipython",
    "version": 2
   },
   "file_extension": ".py",
   "mimetype": "text/x-python",
   "name": "python",
   "nbconvert_exporter": "python",
   "pygments_lexer": "ipython2",
   "version": "2.7.12"
  }
 },
 "nbformat": 4,
 "nbformat_minor": 2
}
