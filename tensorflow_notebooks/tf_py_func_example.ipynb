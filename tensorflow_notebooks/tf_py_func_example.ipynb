{
 "cells": [
  {
   "cell_type": "markdown",
   "metadata": {},
   "source": [
    "# Explanation of `tf.py_func` with example\n",
    "\n",
    "The `tf.py_func` operator enables us to run arbitrary Python code in the middle of a TensorFlow graph. This might be needed to wrap custom defined NumPy operators for which no equivalent TensorFlow operator exists. One situation which comes to my mind, where one might have to use this operator is for finding the gradient of the matrix determinant. Gradient for this operation isn't defined in TensorFlow. \n",
    "\n",
    "The `tf.py_func` operator, however, should be used only when no other alternative exists. Firstly, because it essentially injects a python function into the graph thereby making the code slower than the C code most low-level functions are written in. Secondly, because the `tf.py_func()` operation will only run on CPU. If one is using TensorFlow in a distributed setting, the `tf.py_func()` operation must be placed on a CPU device in the same process as the client.\n",
    "\n",
    "The `tf.py_func(func, inp, Tout)` operator creates a TensorFlow operation that calls a Python function, `func` on a list of tensors `inp`. \n",
    "\n",
    "The following snippet is taken from __[TF documentation](https://www.tensorflow.org/api_docs/python/tf/py_func)__ of this operator.\n",
    "\n",
    "```python\n",
    "def my_func(x):\n",
    "  # x will be a numpy array with the contents of the placeholder below\n",
    "  return np.sinh(x)\n",
    "inp = tf.placeholder(tf.float32)\n",
    "y = tf.py_func(my_func, [inp], tf.float32)\n",
    "```"
   ]
  },
  {
   "cell_type": "markdown",
   "metadata": {},
   "source": [
    "### Simple ReLU nonlinear activation in TensorFlow as a Python op\n",
    "\n",
    "Recall that for deep neural networks, a common activation function is $ReLU(x) = max(0, x)$. If you graph $y = ReLU(x)$ you can see that the function is mostly differentiable. If $x$ is greater than 0 the derivative is 1 and if $x$ is less than zero the derivative is 0. However, at $x = 0$, the derivative does not exist.\n",
    "\n",
    "I have borrowed the following code snippet from __[here](https://github.com/vahidk/EffectiveTensorflow#python_ops)__. In the first part, we have the implementation of ReLU. In the second part we will cross check the gradient calculation using TF's gradient checker. "
   ]
  },
  {
   "cell_type": "markdown",
   "metadata": {},
   "source": [
    "#### ReLU as a Python op"
   ]
  },
  {
   "cell_type": "code",
   "execution_count": 3,
   "metadata": {},
   "outputs": [],
   "source": [
    "import numpy as np\n",
    "import tensorflow as tf\n",
    "import uuid\n",
    "\n",
    "def relu(inputs):\n",
    "    # Define the op in python\n",
    "    def _relu(x):\n",
    "        return np.maximum(x, 0.)\n",
    "\n",
    "    # Define the op's gradient in python\n",
    "    def _relu_grad(x):\n",
    "        return np.float32(x > 0)\n",
    "\n",
    "    # An adapter that defines a gradient op compatible with TensorFlow\n",
    "    def _relu_grad_op(op, grad):\n",
    "        x = op.inputs[0]\n",
    "        x_grad = grad * tf.py_func(_relu_grad, [x], tf.float32)\n",
    "        return x_grad\n",
    "\n",
    "    # Register the gradient with a unique id\n",
    "    grad_name = \"MyReluGrad_\" + str(uuid.uuid4())\n",
    "    tf.RegisterGradient(grad_name)(_relu_grad_op)\n",
    "\n",
    "    # Override the gradient of the custom op\n",
    "    g = tf.get_default_graph()\n",
    "    with g.gradient_override_map({\"PyFunc\": grad_name}):\n",
    "        output = tf.py_func(_relu, [inputs], tf.float32)\n",
    "    return output"
   ]
  },
  {
   "cell_type": "markdown",
   "metadata": {},
   "source": [
    "#### TensorFlow's gradient checker to cross check gradient"
   ]
  },
  {
   "cell_type": "code",
   "execution_count": 2,
   "metadata": {},
   "outputs": [
    {
     "name": "stdout",
     "output_type": "stream",
     "text": [
      "4.57763671875e-05\n"
     ]
    }
   ],
   "source": [
    "x = tf.random_normal([10])\n",
    "y = relu(x * x)\n",
    "\n",
    "with tf.Session():\n",
    "    diff = tf.test.compute_gradient_error(x, [10], y, [10])\n",
    "    print(diff)"
   ]
  }
 ],
 "metadata": {
  "kernelspec": {
   "display_name": "Python 2",
   "language": "python",
   "name": "python2"
  },
  "language_info": {
   "codemirror_mode": {
    "name": "ipython",
    "version": 2
   },
   "file_extension": ".py",
   "mimetype": "text/x-python",
   "name": "python",
   "nbconvert_exporter": "python",
   "pygments_lexer": "ipython2",
   "version": "2.7.12"
  }
 },
 "nbformat": 4,
 "nbformat_minor": 2
}
